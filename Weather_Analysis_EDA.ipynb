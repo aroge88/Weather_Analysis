{
 "cells": [
  {
   "cell_type": "code",
   "execution_count": null,
   "id": "a1ff9ca4",
   "metadata": {},
   "outputs": [],
   "source": [
    "import pandas as pd\n",
    "import matplotlib.pyplot as plt\n",
    "import seaborn as sns\n",
    "import numpy as np\n",
    "import matplotlib.pylab as pylab\n",
    "from sklearn.model_selection import train_test_split\n",
    "from sklearn.ensemble import RandomForestClassifier\n",
    "from sklearn.metrics import accuracy_score\n",
    "from sklearn.preprocessing import LabelEncoder"
   ]
  },
  {
   "cell_type": "code",
   "execution_count": 26,
   "id": "4e1024df",
   "metadata": {},
   "outputs": [
    {
     "data": {
      "text/html": [
       "<div>\n",
       "<style scoped>\n",
       "    .dataframe tbody tr th:only-of-type {\n",
       "        vertical-align: middle;\n",
       "    }\n",
       "\n",
       "    .dataframe tbody tr th {\n",
       "        vertical-align: top;\n",
       "    }\n",
       "\n",
       "    .dataframe thead th {\n",
       "        text-align: right;\n",
       "    }\n",
       "</style>\n",
       "<table border=\"1\" class=\"dataframe\">\n",
       "  <thead>\n",
       "    <tr style=\"text-align: right;\">\n",
       "      <th></th>\n",
       "      <th>Date/Time</th>\n",
       "      <th>Temp_C</th>\n",
       "      <th>Dew Point Temp_C</th>\n",
       "      <th>Rel Hum_%</th>\n",
       "      <th>Wind Speed_km/h</th>\n",
       "      <th>Visibility_km</th>\n",
       "      <th>Press_kPa</th>\n",
       "      <th>Weather</th>\n",
       "    </tr>\n",
       "  </thead>\n",
       "  <tbody>\n",
       "    <tr>\n",
       "      <th>0</th>\n",
       "      <td>1/1/2012 0:00</td>\n",
       "      <td>-1.8</td>\n",
       "      <td>-3.9</td>\n",
       "      <td>86</td>\n",
       "      <td>4</td>\n",
       "      <td>8.0</td>\n",
       "      <td>101.24</td>\n",
       "      <td>Fog</td>\n",
       "    </tr>\n",
       "    <tr>\n",
       "      <th>1</th>\n",
       "      <td>1/1/2012 1:00</td>\n",
       "      <td>-1.8</td>\n",
       "      <td>-3.7</td>\n",
       "      <td>87</td>\n",
       "      <td>4</td>\n",
       "      <td>8.0</td>\n",
       "      <td>101.24</td>\n",
       "      <td>Fog</td>\n",
       "    </tr>\n",
       "    <tr>\n",
       "      <th>2</th>\n",
       "      <td>1/1/2012 2:00</td>\n",
       "      <td>-1.8</td>\n",
       "      <td>-3.4</td>\n",
       "      <td>89</td>\n",
       "      <td>7</td>\n",
       "      <td>4.0</td>\n",
       "      <td>101.26</td>\n",
       "      <td>Freezing Drizzle,Fog</td>\n",
       "    </tr>\n",
       "    <tr>\n",
       "      <th>3</th>\n",
       "      <td>1/1/2012 3:00</td>\n",
       "      <td>-1.5</td>\n",
       "      <td>-3.2</td>\n",
       "      <td>88</td>\n",
       "      <td>6</td>\n",
       "      <td>4.0</td>\n",
       "      <td>101.27</td>\n",
       "      <td>Freezing Drizzle,Fog</td>\n",
       "    </tr>\n",
       "    <tr>\n",
       "      <th>4</th>\n",
       "      <td>1/1/2012 4:00</td>\n",
       "      <td>-1.5</td>\n",
       "      <td>-3.3</td>\n",
       "      <td>88</td>\n",
       "      <td>7</td>\n",
       "      <td>4.8</td>\n",
       "      <td>101.23</td>\n",
       "      <td>Fog</td>\n",
       "    </tr>\n",
       "  </tbody>\n",
       "</table>\n",
       "</div>"
      ],
      "text/plain": [
       "       Date/Time  Temp_C  Dew Point Temp_C  Rel Hum_%  Wind Speed_km/h   \n",
       "0  1/1/2012 0:00    -1.8              -3.9         86                4  \\\n",
       "1  1/1/2012 1:00    -1.8              -3.7         87                4   \n",
       "2  1/1/2012 2:00    -1.8              -3.4         89                7   \n",
       "3  1/1/2012 3:00    -1.5              -3.2         88                6   \n",
       "4  1/1/2012 4:00    -1.5              -3.3         88                7   \n",
       "\n",
       "   Visibility_km  Press_kPa               Weather  \n",
       "0            8.0     101.24                   Fog  \n",
       "1            8.0     101.24                   Fog  \n",
       "2            4.0     101.26  Freezing Drizzle,Fog  \n",
       "3            4.0     101.27  Freezing Drizzle,Fog  \n",
       "4            4.8     101.23                   Fog  "
      ]
     },
     "execution_count": 26,
     "metadata": {},
     "output_type": "execute_result"
    }
   ],
   "source": [
    "weather = pd.read_csv(\"1. Weather Data.csv\")\n",
    "weather.head()"
   ]
  },
  {
   "cell_type": "markdown",
   "id": "184bcfcd",
   "metadata": {},
   "source": [
    "#### What are the dimensions (rows and columns) of the dataset?"
   ]
  },
  {
   "cell_type": "code",
   "execution_count": 27,
   "id": "48722e20",
   "metadata": {},
   "outputs": [
    {
     "name": "stdout",
     "output_type": "stream",
     "text": [
      "Number of rows: 8784\n",
      "Number of columns: 8\n"
     ]
    }
   ],
   "source": [
    "rows, columns = weather.shape\n",
    "print(\"Number of rows:\", rows)\n",
    "print(\"Number of columns:\", columns)\n"
   ]
  },
  {
   "cell_type": "code",
   "execution_count": 28,
   "id": "10045390",
   "metadata": {},
   "outputs": [
    {
     "data": {
      "text/plain": [
       "Weather\n",
       "Mainly Clear                               2106\n",
       "Mostly Cloudy                              2069\n",
       "Cloudy                                     1728\n",
       "Clear                                      1326\n",
       "Snow                                        390\n",
       "Rain                                        306\n",
       "Rain Showers                                188\n",
       "Fog                                         150\n",
       "Rain,Fog                                    116\n",
       "Drizzle,Fog                                  80\n",
       "Snow Showers                                 60\n",
       "Drizzle                                      41\n",
       "Snow,Fog                                     37\n",
       "Snow,Blowing Snow                            19\n",
       "Rain,Snow                                    18\n",
       "Thunderstorms,Rain Showers                   16\n",
       "Haze                                         16\n",
       "Drizzle,Snow,Fog                             15\n",
       "Freezing Rain                                14\n",
       "Freezing Drizzle,Snow                        11\n",
       "Freezing Drizzle                              7\n",
       "Snow,Ice Pellets                              6\n",
       "Freezing Drizzle,Fog                          6\n",
       "Snow,Haze                                     5\n",
       "Freezing Fog                                  4\n",
       "Snow Showers,Fog                              4\n",
       "Moderate Snow                                 4\n",
       "Rain,Snow,Ice Pellets                         4\n",
       "Freezing Rain,Fog                             4\n",
       "Freezing Drizzle,Haze                         3\n",
       "Rain,Haze                                     3\n",
       "Thunderstorms,Rain                            3\n",
       "Thunderstorms,Rain Showers,Fog                3\n",
       "Freezing Rain,Haze                            2\n",
       "Drizzle,Snow                                  2\n",
       "Rain Showers,Snow Showers                     2\n",
       "Thunderstorms                                 2\n",
       "Moderate Snow,Blowing Snow                    2\n",
       "Rain Showers,Fog                              1\n",
       "Thunderstorms,Moderate Rain Showers,Fog       1\n",
       "Snow Pellets                                  1\n",
       "Rain,Snow,Fog                                 1\n",
       "Moderate Rain,Fog                             1\n",
       "Freezing Rain,Ice Pellets,Fog                 1\n",
       "Drizzle,Ice Pellets,Fog                       1\n",
       "Thunderstorms,Rain,Fog                        1\n",
       "Rain,Ice Pellets                              1\n",
       "Rain,Snow Grains                              1\n",
       "Thunderstorms,Heavy Rain Showers              1\n",
       "Freezing Rain,Snow Grains                     1\n",
       "Name: count, dtype: int64"
      ]
     },
     "execution_count": 28,
     "metadata": {},
     "output_type": "execute_result"
    }
   ],
   "source": [
    "weather['Weather'].value_counts()"
   ]
  },
  {
   "cell_type": "markdown",
   "id": "20657ee5",
   "metadata": {},
   "source": [
    "#### What are the column names in the dataset?"
   ]
  },
  {
   "cell_type": "code",
   "execution_count": 29,
   "id": "5421a27d",
   "metadata": {},
   "outputs": [
    {
     "name": "stdout",
     "output_type": "stream",
     "text": [
      "Column names: Index(['Date/Time', 'Temp_C', 'Dew Point Temp_C', 'Rel Hum_%',\n",
      "       'Wind Speed_km/h', 'Visibility_km', 'Press_kPa', 'Weather'],\n",
      "      dtype='object')\n"
     ]
    }
   ],
   "source": [
    "column_names = weather.columns\n",
    "print(\"Column names:\", column_names)"
   ]
  },
  {
   "cell_type": "markdown",
   "id": "8a8dd11f",
   "metadata": {},
   "source": [
    "#### What are the data types of the columns?"
   ]
  },
  {
   "cell_type": "code",
   "execution_count": 30,
   "id": "851b51c3",
   "metadata": {},
   "outputs": [
    {
     "name": "stdout",
     "output_type": "stream",
     "text": [
      "Data types: Date/Time            object\n",
      "Temp_C              float64\n",
      "Dew Point Temp_C    float64\n",
      "Rel Hum_%             int64\n",
      "Wind Speed_km/h       int64\n",
      "Visibility_km       float64\n",
      "Press_kPa           float64\n",
      "Weather              object\n",
      "dtype: object\n"
     ]
    }
   ],
   "source": [
    "data_types = weather.dtypes\n",
    "print(\"Data types:\", data_types)"
   ]
  },
  {
   "cell_type": "markdown",
   "id": "18ed6b74",
   "metadata": {},
   "source": [
    "#### How many missing values are there in each column?"
   ]
  },
  {
   "cell_type": "markdown",
   "id": "72e3c32d",
   "metadata": {},
   "source": [
    "#### What are the summary statistics of numerical columns?"
   ]
  },
  {
   "cell_type": "code",
   "execution_count": 31,
   "id": "43337bc8",
   "metadata": {},
   "outputs": [
    {
     "name": "stdout",
     "output_type": "stream",
     "text": [
      "Summary statistics:\n",
      "             Temp_C  Dew Point Temp_C    Rel Hum_%  Wind Speed_km/h   \n",
      "count  8784.000000       8784.000000  8784.000000      8784.000000  \\\n",
      "mean      8.798144          2.555294    67.431694        14.945469   \n",
      "std      11.687883         10.883072    16.918881         8.688696   \n",
      "min     -23.300000        -28.500000    18.000000         0.000000   \n",
      "25%       0.100000         -5.900000    56.000000         9.000000   \n",
      "50%       9.300000          3.300000    68.000000        13.000000   \n",
      "75%      18.800000         11.800000    81.000000        20.000000   \n",
      "max      33.000000         24.400000   100.000000        83.000000   \n",
      "\n",
      "       Visibility_km    Press_kPa  \n",
      "count    8784.000000  8784.000000  \n",
      "mean       27.664447   101.051623  \n",
      "std        12.622688     0.844005  \n",
      "min         0.200000    97.520000  \n",
      "25%        24.100000   100.560000  \n",
      "50%        25.000000   101.070000  \n",
      "75%        25.000000   101.590000  \n",
      "max        48.300000   103.650000  \n"
     ]
    }
   ],
   "source": [
    "summary_stats = weather.describe()\n",
    "print(\"Summary statistics:\\n\", summary_stats)"
   ]
  },
  {
   "cell_type": "markdown",
   "id": "799625ca",
   "metadata": {},
   "source": [
    "#### How many unique values are there in each column?"
   ]
  },
  {
   "cell_type": "code",
   "execution_count": 32,
   "id": "1307b256",
   "metadata": {},
   "outputs": [
    {
     "name": "stdout",
     "output_type": "stream",
     "text": [
      "Unique values: Date/Time           8784\n",
      "Temp_C               533\n",
      "Dew Point Temp_C     489\n",
      "Rel Hum_%             83\n",
      "Wind Speed_km/h       34\n",
      "Visibility_km         24\n",
      "Press_kPa            518\n",
      "Weather               50\n",
      "dtype: int64\n"
     ]
    }
   ],
   "source": [
    "unique_values = weather.nunique()\n",
    "print(\"Unique values:\", unique_values)"
   ]
  },
  {
   "cell_type": "markdown",
   "id": "29863548",
   "metadata": {},
   "source": [
    "#### What is the distribution of a specific column (e.g., Temp_C)?"
   ]
  },
  {
   "cell_type": "code",
   "execution_count": 33,
   "id": "a65445a3",
   "metadata": {},
   "outputs": [
    {
     "data": {
      "image/png": "[encoded data removed]",
      "text/plain": [
       "<Figure size 432x288 with 1 Axes>"
      ]
     },
     "metadata": {
      "needs_background": "light"
     },
     "output_type": "display_data"
    }
   ],
   "source": [
    "plt.hist(weather['Temp_C'], bins=20)\n",
    "plt.xlabel('Temperature (Celsius)')\n",
    "plt.ylabel('Frequency')\n",
    "plt.title('Distribution of Temperature')\n",
    "plt.show()"
   ]
  },
  {
   "cell_type": "markdown",
   "id": "9e059f68",
   "metadata": {},
   "source": [
    "#### What is the correlation between numerical columns?"
   ]
  },
  {
   "cell_type": "code",
   "execution_count": 34,
   "id": "95fd4022",
   "metadata": {},
   "outputs": [
    {
     "name": "stdout",
     "output_type": "stream",
     "text": [
      "Correlation matrix:\n",
      "                     Temp_C  Dew Point Temp_C  Rel Hum_%  Wind Speed_km/h   \n",
      "Temp_C            1.000000          0.932714  -0.220182        -0.061876  \\\n",
      "Dew Point Temp_C  0.932714          1.000000   0.139494        -0.095685   \n",
      "Rel Hum_%        -0.220182          0.139494   1.000000        -0.092743   \n",
      "Wind Speed_km/h  -0.061876         -0.095685  -0.092743         1.000000   \n",
      "Visibility_km     0.273455          0.050813  -0.633683         0.004883   \n",
      "Press_kPa        -0.236389         -0.320616  -0.231424        -0.356613   \n",
      "\n",
      "                  Visibility_km  Press_kPa  \n",
      "Temp_C                 0.273455  -0.236389  \n",
      "Dew Point Temp_C       0.050813  -0.320616  \n",
      "Rel Hum_%             -0.633683  -0.231424  \n",
      "Wind Speed_km/h        0.004883  -0.356613  \n",
      "Visibility_km          1.000000   0.231847  \n",
      "Press_kPa              0.231847   1.000000  \n"
     ]
    }
   ],
   "source": [
    "numeric_columns = weather.select_dtypes(include=['float64', 'int64']).columns\n",
    "correlation_matrix = weather[numeric_columns].corr()\n",
    "print(\"Correlation matrix:\\n\", correlation_matrix)\n"
   ]
  },
  {
   "cell_type": "markdown",
   "id": "4c8636c8",
   "metadata": {},
   "source": [
    "#### Are there any outliers in numerical columns?"
   ]
  },
  {
   "cell_type": "code",
   "execution_count": 35,
   "id": "90502a22",
   "metadata": {},
   "outputs": [
    {
     "data": {
      "image/png": "[encoded data removed]",
      "text/plain": [
       "<Figure size 432x288 with 1 Axes>"
      ]
     },
     "metadata": {
      "needs_background": "light"
     },
     "output_type": "display_data"
    }
   ],
   "source": [
    "numeric_columns = weather.select_dtypes(include=['float64', 'int64']).columns\n",
    "weather.boxplot(column=list(numeric_columns))\n",
    "plt.title('Boxplot of Numerical Columns')\n",
    "plt.xticks(rotation=45)\n",
    "plt.show()"
   ]
  },
  {
   "cell_type": "code",
   "execution_count": 36,
   "id": "fb7ae00e",
   "metadata": {},
   "outputs": [
    {
     "name": "stdout",
     "output_type": "stream",
     "text": [
      "Accuracy: 0.5406943653955606\n"
     ]
    }
   ],
   "source": [
    "# Convert datetime column to datetime type\n",
    "weather['Date/Time'] = pd.to_datetime(weather['Date/Time'])\n",
    "\n",
    "# Convert categorical columns to numeric using LabelEncoder\n",
    "categorical_cols = ['Weather']  # Replace with the actual names of your categorical columns\n",
    "label_encoders = {}\n",
    "for col in categorical_cols:\n",
    "    label_encoders[col] = LabelEncoder()\n",
    "    weather[col] = label_encoders[col].fit_transform(weather[col])\n",
    "\n",
    "# Split the data into features (X) and target variable (y)\n",
    "X = weather.drop(['Weather', 'Date/Time'], axis=1)  # Exclude target variable and datetime column\n",
    "y = weather['Weather']\n",
    "\n",
    "# Split the data into training and testing sets\n",
    "X_train, X_test, y_train, y_test = train_test_split(X, y, test_size=0.2, random_state=42)\n",
    "\n",
    "# Create a random forest classifier\n",
    "model = RandomForestClassifier()\n",
    "\n",
    "# Train the model\n",
    "model.fit(X_train, y_train)\n",
    "\n",
    "# Make predictions on the test set\n",
    "y_pred = model.predict(X_test)\n",
    "\n",
    "# Evaluate the model\n",
    "accuracy = accuracy_score(y_test, y_pred)\n",
    "print(\"Accuracy:\", accuracy)\n",
    "\n",
    "\n"
   ]
  },
  {
   "cell_type": "code",
   "execution_count": 40,
   "id": "d993556a",
   "metadata": {},
   "outputs": [
    {
     "data": {
      "image/png": "[encoded data removed]",
      "text/plain": [
       "<Figure size 432x288 with 1 Axes>"
      ]
     },
     "metadata": {
      "needs_background": "light"
     },
     "output_type": "display_data"
    }
   ],
   "source": [
    "plt.plot(weather['Date/Time'], weather['Dew Point Temp_C'])\n",
    "plt.xlabel('Date/Time')\n",
    "plt.ylabel('Dew Point Temperature (Celsius)')\n",
    "plt.title('Dew Point Temperature Variation')\n",
    "plt.xticks(rotation=82)\n",
    "plt.show()\n"
   ]
  },
  {
   "cell_type": "code",
   "execution_count": 41,
   "id": "7417d07e",
   "metadata": {},
   "outputs": [
    {
     "data": {
      "image/png": "[encoded data removed]",
      "text/plain": [
       "<Figure size 432x288 with 1 Axes>"
      ]
     },
     "metadata": {
      "needs_background": "light"
     },
     "output_type": "display_data"
    }
   ],
   "source": [
    "plt.scatter(weather['Rel Hum_%'], weather['Wind Speed_km/h'])\n",
    "plt.xlabel('Relative Humidity (%)')\n",
    "plt.ylabel('Wind Speed (km/h)')\n",
    "plt.title('Relationship between Relative Humidity and Wind Speed')\n",
    "plt.show()\n"
   ]
  },
  {
   "cell_type": "code",
   "execution_count": 43,
   "id": "87721aba",
   "metadata": {},
   "outputs": [
    {
     "data": {
      "image/png": "[encoded data removed]",
      "text/plain": [
       "<Figure size 432x288 with 1 Axes>"
      ]
     },
     "metadata": {
      "needs_background": "light"
     },
     "output_type": "display_data"
    }
   ],
   "source": [
    "weather_counts = weather['Weather'].value_counts()\n",
    "plt.bar(weather_counts.index, weather_counts.values)\n",
    "plt.xlabel('Weather Condition')\n",
    "plt.ylabel('Frequency')\n",
    "plt.title('Weather Condition Distribution')\n",
    "plt.xticks(rotation=45)\n",
    "plt.show()\n"
   ]
  },
  {
   "cell_type": "code",
   "execution_count": null,
   "id": "a5233055",
   "metadata": {},
   "outputs": [],
   "source": []
  }
 ],
 "metadata": {
  "kernelspec": {
   "display_name": "Python 3 (ipykernel)",
   "language": "python",
   "name": "python3"
  },
  "language_info": {
   "codemirror_mode": {
    "name": "ipython",
    "version": 3
   },
   "file_extension": ".py",
   "mimetype": "text/x-python",
   "name": "python",
   "nbconvert_exporter": "python",
   "pygments_lexer": "ipython3",
   "version": "3.9.12"
  }
 },
 "nbformat": 4,
 "nbformat_minor": 5
}
